{
 "cells": [
  {
   "cell_type": "code",
   "execution_count": 8,
   "metadata": {},
   "outputs": [],
   "source": [
    "import pandas as pd\n",
    "import numpy as np\n",
    "import matplotlib.pyplot as plt\n",
    "from matplotlib.font_manager import FontProperties\n",
    "import seaborn as sns\n",
    "from scipy import stats\n",
    "import prep, cf_matrix, models\n",
    "\n",
    "from sklearn.model_selection import train_test_split\n",
    "from sklearn.ensemble import RandomForestClassifier\n",
    "from sklearn.metrics import classification_report, roc_auc_score, log_loss, confusion_matrix, f1_score"
   ]
  },
  {
   "cell_type": "code",
   "execution_count": 9,
   "metadata": {},
   "outputs": [],
   "source": [
    "df = pd.read_csv(\"../data/train.csv\")\n",
    "test_me = pd.read_csv(\"../data/test.csv\")"
   ]
  },
  {
   "cell_type": "markdown",
   "metadata": {},
   "source": [
    "# NETWORK INTRUSION DETECTION\n",
    "\n",
    "##### This data is KDDCUP’99 data set, which is widely used as one of the few publicly available data sets for network-based anomaly detection systems.\n",
    "##### For more about data: http://www.unb.ca/cic/datasets/nsl.html"
   ]
  },
  {
   "cell_type": "markdown",
   "metadata": {},
   "source": [
    "<img src=\"../media/acknow.jpg\" width=\"1080\" height=\"400\" />"
   ]
  },
  {
   "cell_type": "markdown",
   "metadata": {},
   "source": [
    "\n",
    "## __LIST OF COLUMNS FOR THE DATA SET__\n",
    "\n",
    "### __BASIC FEATURES OF EACH NETWORK CONNECTION VECTOR__\n",
    "\n",
    "**1 Duration:** ``Length of time duration`` of the connection\n",
    "\n",
    "**2 Protocol_type:** ``Protocol used`` in the connection\n",
    "\n",
    "**3 Service:** ``Destination network service used``\n",
    "\n",
    "**4 Flag:** ``Status`` of the connection – Normal or Error\n",
    "\n",
    "**5 Src_bytes:** ``Number of data bytes`` transferred from ``source to destination`` in a single connection\n",
    "\n",
    "**6 Dst_bytes:** ``Number of data bytes`` transferred from ``destination to source`` in a single connection\n",
    "\n",
    "**7 Land:** if source and destination IP addresses and port numbers are equal then, this variable takes value 1\n",
    "else 0\n",
    "\n",
    "**8 Wrong_fragment:** Total ``number of wrong fragments`` in this connection\n",
    "\n",
    "**9 Urgent:** ``Number of urgent packets`` in this connection. Urgent packets are packets with the urgent bit\n",
    "activated\n"
   ]
  },
  {
   "cell_type": "markdown",
   "metadata": {},
   "source": [
    "![](../media/two.jpg)"
   ]
  },
  {
   "cell_type": "markdown",
   "metadata": {},
   "source": [
    "### __CONTENT RELATED FEATURES OF EACH NETWORK CONNECTION VECTOR__\n",
    "\n",
    "\n",
    "**10 Hot:** Number of „hot‟ indicators in the content such as: ``entering a system directory, creating programs\n",
    "and executing programs``\n",
    "\n",
    "**11 Num_failed _logins:** ``Count of failed login attempts``\n",
    "\n",
    "**12 Logged_in Login Status** : 1 if ``successfully logged in``; 0 otherwise\n",
    "\n",
    "**13 Num_compromised** : ``Number of compromised``' ' conditions\n",
    "\n",
    "**14 Root_shell:** 1 if ``root shell is obtained``; 0 otherwise\n",
    "\n",
    "**15 Su_attempted:** 1 if ``su root'' command attempted or used``; 0 otherwise\n",
    "\n",
    "**16 Num_root:** ``Number of root'' accesses or number of operations performed as a root in the connection``\n",
    "\n",
    "**17 Num_file_creations:** ``Number of file creation operations`` in the connection\n",
    "\n",
    "**18 Num_shells:** ``Number of shell prompts``\n",
    "\n",
    "**19 Num_access_files** : ``Number of operations on access control files``\n",
    "\n",
    "**20 Num_outbound_cmds:** ``Number of outbound commands in an ftp session``\n",
    "\n",
    "**21 Is_hot_login:** 1 if the ``login belongs to the hot'' list i.e., root or admin``; else 0\n",
    "\n",
    "**22 Is_guest_login:** 1 if the ``login is a guest``'' login; 0 otherwise\n"
   ]
  },
  {
   "cell_type": "markdown",
   "metadata": {},
   "source": [
    "<img src=\"../media/three.gif\" width=\"1080\" height=\"400\" />"
   ]
  },
  {
   "cell_type": "markdown",
   "metadata": {},
   "source": [
    "\n",
    "### __TIME-RELATED TRAFFIC FEATURES OF EACH NETWORK CONNECTION VECTOR__\n",
    "\n",
    "**23 Count:** ``Number of connections to the same destination host as the current connection`` in the past two\n",
    "seconds\n",
    "\n",
    "**24 Srv_count:** ``Number of connections to the same service (port number) as the current connection`` in the\n",
    "past two seconds\n",
    "\n",
    "**25 Serror_rate:** ``The percentage of connections that have activated`` the flag (4) s0, s1, s2 or s3, among the\n",
    "connections aggregated in ``count`` (23)\n",
    "\n",
    "**26 Srv_serror_rate:** ``The percentage of connections that have activated the flag`` (4) s0, s1, s2 or s3, among\n",
    "the connections aggregated in ``srv_count`` (24)\n",
    "\n",
    "**27 Rerror_rate:** ``The percentage of connections that have activated the flag`` (4) REJ, among the connections\n",
    "aggregated in ``count`` (23)\n",
    "\n",
    "**28 Srv_rerror_rate:** ``The percentage of connections that have activated the flag`` (4) REJ, among the\n",
    "connections aggregated in ``srv_count`` (24)\n",
    "\n",
    "**29 Same_srv_rate:** ``The percentage of connections that were to the same service``, among the connections\n",
    "aggregated in ``count`` (23)\n",
    "\n",
    "**30 Diff_srv_rate:** ``The percentage of connections that were to different services``, among the connections\n",
    "aggregated in ``count`` (23)\n",
    "\n",
    "**31 Srv_diff_host_ rate:** ``The percentage of connections that were to different destination machines`` among\n",
    "the connections aggregated in ``srv_count`` (24)\n",
    "\n",
    "### __HOST BASED TRAFFIC FEATURES IN A NETWORK CONNECTION VECTOR__\n",
    "\n",
    "**32 Dst_host_count:** Number of connections having the ``same destination host IP address``\n",
    "\n",
    "**33 Dst_host_srv_ count:** Number of connections having the ``same port number``\n",
    "\n",
    "**34 Dst_host_same _srv_rate:** ``The percentage of connections that were to the same service``, among the\n",
    "connections aggregated in ``dst_host_count`` (32)\n",
    "\n",
    "**35 Dst_host_diff_ srv_rate:** ``The percentage of connections that were to different services``, among the\n",
    "connections aggregated in ``dst_host_count`` (32)\n",
    "\n",
    "**36 Dst_host_same _src_port_rate** : ``The percentage of connections that were to the same source port``,\n",
    "among the connections aggregated in ``dst_host_srv_count`` (33)\n",
    "\n",
    "**37 Dst_host_srv_ diff_host_rate:** ``The percentage of connections that were to different destination\n",
    "machines``, among the connections aggregated in ``dst_host_srv_count`` (33)\n",
    "\n",
    "**38 Dst_host_serror_rate:** ``The percentage of connections that have activated the flag`` (4) s0, s1, s2 or s3,\n",
    "among the connections aggregated in ``dst_host_count`` (32)\n",
    "\n",
    "**39 Dst_host_srv_s error_rate:** ``The percent of connections that have activated the flag`` (4) s0, s1, s2 or s3,\n",
    "among the connections aggregated in ``dst_host_srv_c ount`` (33)\n",
    "\n",
    "**40 Dst_host_rerro r_rate** : ``The percentage of connections that have activated the flag`` (4) REJ, among the\n",
    "connections aggregated in ``dst_host_count`` (32)\n",
    "\n",
    "**41 Dst_host_srv_r error_rate:** ``The percentage of connections that have activated the flag`` (4) REJ, among\n",
    "the connections aggregated in ``dst_host_srv_count`` (33)\n"
   ]
  },
  {
   "cell_type": "markdown",
   "metadata": {},
   "source": [
    "### __ATTACK CLASS__\n",
    "<img src=\"../media/hack.jpg\" width=\"1080\" height=\"400\" />"
   ]
  },
  {
   "cell_type": "markdown",
   "metadata": {},
   "source": [
    "\n",
    "**1. DOS:** Denial of service is an attack category, which depletes the victim‟s resources thereby making it\n",
    "unable to handle legitimate requests – e.g. syn flooding. Relevant features: ``source bytes`` and ``percentage of packets with errors``\n",
    "\n",
    "**2. Probing:** Surveillance and another probing attack ‟s objective is to gain information about the remote victim\n",
    "e.g. port scanning. Relevant features: ``duration of connection`` and ``source bytes``\n",
    "\n",
    "**3. U2R:** unauthorized access to local superuser (root) privileges is an attack-type, by which an attacker uses\n",
    "a normal account to login into a victim system and tries to gain root/administrator privileges by exploiting\n",
    "some vulnerability in the victim e.g. buffer overflow attacks. Relevant features: ``number of file creations``\n",
    "and ``number of shell prompts invoked``\n",
    "\n",
    "**4. R2L:** unauthorized access from a remote machine, the attacker intrudes into a remote machine and gains\n",
    "local access of the victim machine. E.g. password guessing Relevant features: Network-level features –\n",
    "“duration of connection” and “service requested” and host level features - ``number of failed login\n",
    "attempts``\n"
   ]
  },
  {
   "cell_type": "code",
   "execution_count": 10,
   "metadata": {},
   "outputs": [],
   "source": [
    "def change_target_variable(df):\n",
    "    attacks = {\n",
    "    'dos': ['back', 'land', 'neptune', \n",
    "            'pod', 'smurf', 'teardrop', \n",
    "            'apache2', 'udpstorm', 'processtable', \n",
    "            'worm'],\n",
    "    'probe': ['satan', 'ipsweep', 'nmap', \n",
    "              'portsweep', 'mscan', 'saint'],\n",
    "    'r2l': ['guess_passwd', 'ftp_write', 'imap',\n",
    "            'phf', 'multihop', 'warezmaster',\n",
    "            'warezclient', 'spy', 'xlock',\n",
    "            'xsnoop', 'snmpguess', 'snmpgetattack',\n",
    "            'httptunnel', 'sendmail', 'named'],\n",
    "    'u2r': ['buffer_overflow', 'loadmodule', 'rootkit', \n",
    "            'perl', 'sqlattack', 'xterm', 'ps']\n",
    "    }\n",
    "    df[\"attacks_class\"] = np.nan\n",
    "    for each_attack_type in attacks.keys():\n",
    "        df.loc[df[df.attack.isin(attacks[each_attack_type])].index, \"attacks_class\"] = each_attack_type\n",
    "    df.attacks_class.fillna('normal', inplace = True)\n",
    "    df.drop(\"attack\", axis = 1 ,inplace =True)\n",
    "    return df\n",
    "\n",
    "def evaluate_metric(X, y, weight, model):\n",
    "    if model.__class__.__name__ == 'Pipeline':\n",
    "        upper = [' '.join([each_step for each_step, _ in model.steps])]\n",
    "        \n",
    "    else:\n",
    "        upper = [model.__class__.__name__]\n",
    "        \n",
    "    model_eval =  pd.DataFrame({\n",
    "        event: [\n",
    "            roc_auc_score(pd.get_dummies(y).values[:,_], model.predict_proba(X)[:,_]), \n",
    "            log_loss(pd.get_dummies(y).values[:,_], model.predict_proba(X)[:,_]), \n",
    "            f1_score(pd.get_dummies(y).values[:,_], model.predict_proba(X)[:,_]>weight[event])\n",
    "        ] \n",
    "        for _, event in enumerate(['normal', 'dos', 'probe', 'r2l', 'u2r'])\n",
    "    }, index = [\"ROC\", \"Log Loss\", \"F1 Score\"])\n",
    "    model_eval.columns = pd.MultiIndex.from_product([upper, model_eval.columns])\n",
    "    return model_eval\n",
    "\n",
    "def evaluate_all_models(train_X, train_y,test_X,test_y,weight):\n",
    "    MODELS_EVAL = pd.DataFrame()\n",
    "    for each_model in models.MODELS:\n",
    "        print(f\"Started {each_model.__class__.__name__}\")\n",
    "        each_model.fit(train_X, train_y)\n",
    "        MODELS_EVAL = pd.concat([MODELS_EVAL, evaluate_metric(test_X,test_y,weight, each_model)], axis = 1)\n",
    "        print(f\"Ended {each_model.__class__.__name__}\")\n",
    "        \n",
    "    return MODELS_EVAL.T"
   ]
  },
  {
   "cell_type": "code",
   "execution_count": 11,
   "metadata": {},
   "outputs": [],
   "source": [
    "df = change_target_variable(df)"
   ]
  },
  {
   "cell_type": "code",
   "execution_count": 12,
   "metadata": {},
   "outputs": [
    {
     "data": {
      "image/png": "[encoded data removed]",
      "text/plain": [
       "<Figure size 432x288 with 1 Axes>"
      ]
     },
     "metadata": {
      "needs_background": "light"
     },
     "output_type": "display_data"
    }
   ],
   "source": [
    "sns.countplot(df.attacks_class)\n",
    "plt.show()"
   ]
  },
  {
   "cell_type": "markdown",
   "metadata": {},
   "source": [
    "### Status of the connection – Normal or Error __(flag)__ during __DOS__ attack "
   ]
  },
  {
   "cell_type": "code",
   "execution_count": 13,
   "metadata": {},
   "outputs": [
    {
     "data": {
      "image/png": "[encoded data removed]",
      "text/plain": [
       "<Figure size 720x360 with 1 Axes>"
      ]
     },
     "metadata": {
      "needs_background": "light"
     },
     "output_type": "display_data"
    }
   ],
   "source": [
    "plt.figure(figsize = (10,5))\n",
    "sns.countplot(x = 'flag', hue= 'attacks_class', data = df.loc[df.attacks_class.isin([\"normal\",\"dos\"]), [\"attacks_class\", \"flag\"]])\n",
    "plt.legend(loc = 'upper right')\n",
    "plt.show()"
   ]
  },
  {
   "cell_type": "markdown",
   "metadata": {},
   "source": [
    "### Number of data bytes transferred from source to destination in a single connection __(src_bytes)__ during __Probe__ attack "
   ]
  },
  {
   "cell_type": "code",
   "execution_count": 14,
   "metadata": {},
   "outputs": [
    {
     "data": {
      "text/html": [
       "<div>\n",
       "<style scoped>\n",
       "    .dataframe tbody tr th:only-of-type {\n",
       "        vertical-align: middle;\n",
       "    }\n",
       "\n",
       "    .dataframe tbody tr th {\n",
       "        vertical-align: top;\n",
       "    }\n",
       "\n",
       "    .dataframe thead tr th {\n",
       "        text-align: left;\n",
       "    }\n",
       "\n",
       "    .dataframe thead tr:last-of-type th {\n",
       "        text-align: right;\n",
       "    }\n",
       "</style>\n",
       "<table border=\"1\" class=\"dataframe\">\n",
       "  <thead>\n",
       "    <tr>\n",
       "      <th></th>\n",
       "      <th colspan=\"8\" halign=\"left\">src_bytes</th>\n",
       "    </tr>\n",
       "    <tr>\n",
       "      <th></th>\n",
       "      <th>count</th>\n",
       "      <th>mean</th>\n",
       "      <th>std</th>\n",
       "      <th>min</th>\n",
       "      <th>25%</th>\n",
       "      <th>50%</th>\n",
       "      <th>75%</th>\n",
       "      <th>max</th>\n",
       "    </tr>\n",
       "    <tr>\n",
       "      <th>attacks_class</th>\n",
       "      <th></th>\n",
       "      <th></th>\n",
       "      <th></th>\n",
       "      <th></th>\n",
       "      <th></th>\n",
       "      <th></th>\n",
       "      <th></th>\n",
       "      <th></th>\n",
       "    </tr>\n",
       "  </thead>\n",
       "  <tbody>\n",
       "    <tr>\n",
       "      <th>normal</th>\n",
       "      <td>67343.0</td>\n",
       "      <td>13133.279331</td>\n",
       "      <td>4.181131e+05</td>\n",
       "      <td>0.0</td>\n",
       "      <td>129.0</td>\n",
       "      <td>233.0</td>\n",
       "      <td>324.0</td>\n",
       "      <td>8.958152e+07</td>\n",
       "    </tr>\n",
       "    <tr>\n",
       "      <th>probe</th>\n",
       "      <td>11656.0</td>\n",
       "      <td>385679.838367</td>\n",
       "      <td>1.926641e+07</td>\n",
       "      <td>0.0</td>\n",
       "      <td>0.0</td>\n",
       "      <td>1.0</td>\n",
       "      <td>8.0</td>\n",
       "      <td>1.379964e+09</td>\n",
       "    </tr>\n",
       "  </tbody>\n",
       "</table>\n",
       "</div>"
      ],
      "text/plain": [
       "              src_bytes                                                  \\\n",
       "                  count           mean           std  min    25%    50%   \n",
       "attacks_class                                                             \n",
       "normal          67343.0   13133.279331  4.181131e+05  0.0  129.0  233.0   \n",
       "probe           11656.0  385679.838367  1.926641e+07  0.0    0.0    1.0   \n",
       "\n",
       "                                    \n",
       "                 75%           max  \n",
       "attacks_class                       \n",
       "normal         324.0  8.958152e+07  \n",
       "probe            8.0  1.379964e+09  "
      ]
     },
     "execution_count": 14,
     "metadata": {},
     "output_type": "execute_result"
    }
   ],
   "source": [
    "df.loc[df.attacks_class.isin([\"normal\",\"probe\"]), [\"attacks_class\", \"src_bytes\"]].groupby(\"attacks_class\").describe()"
   ]
  },
  {
   "cell_type": "code",
   "execution_count": 15,
   "metadata": {},
   "outputs": [
    {
     "data": {
      "text/plain": [
       "Ttest_indResult(statistic=-5.011283459705361, pvalue=5.418467887134679e-07)"
      ]
     },
     "execution_count": 15,
     "metadata": {},
     "output_type": "execute_result"
    }
   ],
   "source": [
    "stats.ttest_ind(df.loc[df.attacks_class == 'normal', \"src_bytes\"], df.loc[df.attacks_class == 'probe', \"src_bytes\"])"
   ]
  },
  {
   "cell_type": "markdown",
   "metadata": {},
   "source": [
    "### Length of time duration of the connection __(Duration)__ during __Probe__ attack "
   ]
  },
  {
   "cell_type": "code",
   "execution_count": 16,
   "metadata": {},
   "outputs": [
    {
     "data": {
      "text/html": [
       "<div>\n",
       "<style scoped>\n",
       "    .dataframe tbody tr th:only-of-type {\n",
       "        vertical-align: middle;\n",
       "    }\n",
       "\n",
       "    .dataframe tbody tr th {\n",
       "        vertical-align: top;\n",
       "    }\n",
       "\n",
       "    .dataframe thead tr th {\n",
       "        text-align: left;\n",
       "    }\n",
       "\n",
       "    .dataframe thead tr:last-of-type th {\n",
       "        text-align: right;\n",
       "    }\n",
       "</style>\n",
       "<table border=\"1\" class=\"dataframe\">\n",
       "  <thead>\n",
       "    <tr>\n",
       "      <th></th>\n",
       "      <th colspan=\"8\" halign=\"left\">duration</th>\n",
       "    </tr>\n",
       "    <tr>\n",
       "      <th></th>\n",
       "      <th>count</th>\n",
       "      <th>mean</th>\n",
       "      <th>std</th>\n",
       "      <th>min</th>\n",
       "      <th>25%</th>\n",
       "      <th>50%</th>\n",
       "      <th>75%</th>\n",
       "      <th>max</th>\n",
       "    </tr>\n",
       "    <tr>\n",
       "      <th>attacks_class</th>\n",
       "      <th></th>\n",
       "      <th></th>\n",
       "      <th></th>\n",
       "      <th></th>\n",
       "      <th></th>\n",
       "      <th></th>\n",
       "      <th></th>\n",
       "      <th></th>\n",
       "    </tr>\n",
       "  </thead>\n",
       "  <tbody>\n",
       "    <tr>\n",
       "      <th>normal</th>\n",
       "      <td>67343.0</td>\n",
       "      <td>168.587396</td>\n",
       "      <td>1304.452127</td>\n",
       "      <td>0.0</td>\n",
       "      <td>0.0</td>\n",
       "      <td>0.0</td>\n",
       "      <td>0.0</td>\n",
       "      <td>40504.0</td>\n",
       "    </tr>\n",
       "    <tr>\n",
       "      <th>probe</th>\n",
       "      <td>11656.0</td>\n",
       "      <td>2074.858185</td>\n",
       "      <td>7710.333068</td>\n",
       "      <td>0.0</td>\n",
       "      <td>0.0</td>\n",
       "      <td>0.0</td>\n",
       "      <td>0.0</td>\n",
       "      <td>42908.0</td>\n",
       "    </tr>\n",
       "  </tbody>\n",
       "</table>\n",
       "</div>"
      ],
      "text/plain": [
       "              duration                                                       \n",
       "                 count         mean          std  min  25%  50%  75%      max\n",
       "attacks_class                                                                \n",
       "normal         67343.0   168.587396  1304.452127  0.0  0.0  0.0  0.0  40504.0\n",
       "probe          11656.0  2074.858185  7710.333068  0.0  0.0  0.0  0.0  42908.0"
      ]
     },
     "execution_count": 16,
     "metadata": {},
     "output_type": "execute_result"
    }
   ],
   "source": [
    "df.loc[df.attacks_class.isin([\"normal\",\"probe\"]), [\"attacks_class\", \"duration\"]].groupby(\"attacks_class\").describe()"
   ]
  },
  {
   "cell_type": "code",
   "execution_count": 17,
   "metadata": {},
   "outputs": [
    {
     "data": {
      "text/plain": [
       "Ttest_indResult(statistic=-59.434276798085186, pvalue=0.0)"
      ]
     },
     "execution_count": 17,
     "metadata": {},
     "output_type": "execute_result"
    }
   ],
   "source": [
    "stats.ttest_ind(df.loc[df.attacks_class == 'normal', \"duration\"], df.loc[df.attacks_class == 'probe', \"duration\"])"
   ]
  },
  {
   "cell_type": "markdown",
   "metadata": {},
   "source": [
    "### Number of shell prompts __(num_shell)__ during __U2R__ attacks "
   ]
  },
  {
   "cell_type": "code",
   "execution_count": 18,
   "metadata": {},
   "outputs": [
    {
     "data": {
      "image/png": "[encoded data removed]",
      "text/plain": [
       "<Figure size 432x288 with 1 Axes>"
      ]
     },
     "metadata": {
      "needs_background": "light"
     },
     "output_type": "display_data"
    }
   ],
   "source": [
    "_ = pd.DataFrame(df.groupby('attacks_class')['num_shells'].sum() / df.attacks_class.value_counts()).reset_index()\n",
    "_.columns = ['attacks_class', 'num_shell_percentage']\n",
    "sns.barplot(x = 'attacks_class', y = 'num_shell_percentage', data = _)\n",
    "plt.show()"
   ]
  },
  {
   "cell_type": "markdown",
   "metadata": {},
   "source": [
    "### Number of file creation operations in the connection __(num_file_creations)__ during __U2R__ attacks "
   ]
  },
  {
   "cell_type": "code",
   "execution_count": 19,
   "metadata": {},
   "outputs": [
    {
     "data": {
      "image/png": "[encoded data removed]",
      "text/plain": [
       "<Figure size 432x288 with 1 Axes>"
      ]
     },
     "metadata": {
      "needs_background": "light"
     },
     "output_type": "display_data"
    }
   ],
   "source": [
    "_ = pd.DataFrame(df.groupby('attacks_class')['num_file_creations'].sum() / df.attacks_class.value_counts()).reset_index()\n",
    "_.columns = ['attacks_class', 'num_file_creations_percentage']\n",
    "sns.barplot(x = 'attacks_class', y = 'num_file_creations_percentage', data = _)\n",
    "plt.ylim(0,1)\n",
    "plt.show()"
   ]
  },
  {
   "cell_type": "markdown",
   "metadata": {},
   "source": [
    "### Count of failed login attempts __(num_failed_logins)__ during different attacks "
   ]
  },
  {
   "cell_type": "code",
   "execution_count": 20,
   "metadata": {},
   "outputs": [
    {
     "data": {
      "image/png": "[encoded data removed]",
      "text/plain": [
       "<Figure size 432x288 with 1 Axes>"
      ]
     },
     "metadata": {
      "needs_background": "light"
     },
     "output_type": "display_data"
    }
   ],
   "source": [
    "_ = pd.DataFrame(df.groupby('attacks_class')['num_failed_logins'].sum() / df.attacks_class.value_counts()).reset_index()\n",
    "_.columns = ['attacks_class', 'num_failed_logins_percentage']\n",
    "sns.barplot(x = 'attacks_class', y = 'num_failed_logins_percentage', data = _)\n",
    "plt.ylim(0,1)\n",
    "plt.show()"
   ]
  },
  {
   "cell_type": "code",
   "execution_count": 21,
   "metadata": {},
   "outputs": [],
   "source": [
    "df = prep.prep(df)\n",
    "X = df.iloc[:, :-1]\n",
    "y = df.attacks_class"
   ]
  },
  {
   "cell_type": "code",
   "execution_count": 22,
   "metadata": {},
   "outputs": [],
   "source": [
    "train_X, test_X, train_y, test_y = train_test_split(X, y, test_size = 0.3, stratify= y)"
   ]
  },
  {
   "cell_type": "code",
   "execution_count": 23,
   "metadata": {},
   "outputs": [
    {
     "data": {
      "text/plain": [
       "normal    0.534582\n",
       "dos       0.364580\n",
       "probe     0.092526\n",
       "r2l       0.007904\n",
       "u2r       0.000408\n",
       "Name: attacks_class, dtype: float64"
      ]
     },
     "execution_count": 23,
     "metadata": {},
     "output_type": "execute_result"
    }
   ],
   "source": [
    "train_y.value_counts()/train_y.shape"
   ]
  },
  {
   "cell_type": "code",
   "execution_count": 24,
   "metadata": {},
   "outputs": [
    {
     "data": {
      "text/plain": [
       "(88181, 120)"
      ]
     },
     "execution_count": 24,
     "metadata": {},
     "output_type": "execute_result"
    }
   ],
   "source": [
    "train_X.shape"
   ]
  },
  {
   "cell_type": "code",
   "execution_count": 25,
   "metadata": {},
   "outputs": [],
   "source": [
    "weight = {\n",
    "    \"normal\"   :0.534582,\n",
    "    \"dos\"      :0.364580,\n",
    "    \"probe\"    :0.092526,\n",
    "    \"r2l\"      :0.007904,\n",
    "    \"u2r\"      :0.000408\n",
    "}"
   ]
  },
  {
   "cell_type": "code",
   "execution_count": 26,
   "metadata": {},
   "outputs": [
    {
     "name": "stdout",
     "output_type": "stream",
     "text": [
      "Started RandomForestClassifier\n",
      "Ended RandomForestClassifier\n",
      "Started Pipeline\n",
      "Ended Pipeline\n",
      "Started Pipeline\n",
      "Ended Pipeline\n",
      "Started LogisticRegression\n",
      "Ended LogisticRegression\n"
     ]
    },
    {
     "data": {
      "text/html": [
       "<div>\n",
       "<style scoped>\n",
       "    .dataframe tbody tr th:only-of-type {\n",
       "        vertical-align: middle;\n",
       "    }\n",
       "\n",
       "    .dataframe tbody tr th {\n",
       "        vertical-align: top;\n",
       "    }\n",
       "\n",
       "    .dataframe thead th {\n",
       "        text-align: right;\n",
       "    }\n",
       "</style>\n",
       "<table border=\"1\" class=\"dataframe\">\n",
       "  <thead>\n",
       "    <tr style=\"text-align: right;\">\n",
       "      <th></th>\n",
       "      <th></th>\n",
       "      <th>ROC</th>\n",
       "      <th>Log Loss</th>\n",
       "      <th>F1 Score</th>\n",
       "    </tr>\n",
       "  </thead>\n",
       "  <tbody>\n",
       "    <tr>\n",
       "      <th rowspan=\"5\" valign=\"top\">RandomForestClassifier</th>\n",
       "      <th>normal</th>\n",
       "      <td>1.000000</td>\n",
       "      <td>0.001088</td>\n",
       "      <td>0.999819</td>\n",
       "    </tr>\n",
       "    <tr>\n",
       "      <th>dos</th>\n",
       "      <td>0.999999</td>\n",
       "      <td>0.003142</td>\n",
       "      <td>0.999332</td>\n",
       "    </tr>\n",
       "    <tr>\n",
       "      <th>probe</th>\n",
       "      <td>0.999999</td>\n",
       "      <td>0.001916</td>\n",
       "      <td>0.988691</td>\n",
       "    </tr>\n",
       "    <tr>\n",
       "      <th>r2l</th>\n",
       "      <td>0.999975</td>\n",
       "      <td>0.001293</td>\n",
       "      <td>0.479100</td>\n",
       "    </tr>\n",
       "    <tr>\n",
       "      <th>u2r</th>\n",
       "      <td>0.999909</td>\n",
       "      <td>0.000559</td>\n",
       "      <td>0.142222</td>\n",
       "    </tr>\n",
       "    <tr>\n",
       "      <th rowspan=\"5\" valign=\"top\">PCA RandomForestClassifier</th>\n",
       "      <th>normal</th>\n",
       "      <td>1.000000</td>\n",
       "      <td>0.001901</td>\n",
       "      <td>0.999782</td>\n",
       "    </tr>\n",
       "    <tr>\n",
       "      <th>dos</th>\n",
       "      <td>0.999998</td>\n",
       "      <td>0.004227</td>\n",
       "      <td>0.999208</td>\n",
       "    </tr>\n",
       "    <tr>\n",
       "      <th>probe</th>\n",
       "      <td>0.999999</td>\n",
       "      <td>0.003029</td>\n",
       "      <td>0.983408</td>\n",
       "    </tr>\n",
       "    <tr>\n",
       "      <th>r2l</th>\n",
       "      <td>0.999972</td>\n",
       "      <td>0.001674</td>\n",
       "      <td>0.449472</td>\n",
       "    </tr>\n",
       "    <tr>\n",
       "      <th>u2r</th>\n",
       "      <td>0.999944</td>\n",
       "      <td>0.000531</td>\n",
       "      <td>0.091168</td>\n",
       "    </tr>\n",
       "    <tr>\n",
       "      <th rowspan=\"5\" valign=\"top\">Standard Scaler RandomForestClassifier</th>\n",
       "      <th>normal</th>\n",
       "      <td>1.000000</td>\n",
       "      <td>0.001035</td>\n",
       "      <td>0.999855</td>\n",
       "    </tr>\n",
       "    <tr>\n",
       "      <th>dos</th>\n",
       "      <td>0.999999</td>\n",
       "      <td>0.003097</td>\n",
       "      <td>0.999382</td>\n",
       "    </tr>\n",
       "    <tr>\n",
       "      <th>probe</th>\n",
       "      <td>0.999999</td>\n",
       "      <td>0.001886</td>\n",
       "      <td>0.989810</td>\n",
       "    </tr>\n",
       "    <tr>\n",
       "      <th>r2l</th>\n",
       "      <td>0.999970</td>\n",
       "      <td>0.001313</td>\n",
       "      <td>0.500840</td>\n",
       "    </tr>\n",
       "    <tr>\n",
       "      <th>u2r</th>\n",
       "      <td>0.999938</td>\n",
       "      <td>0.000526</td>\n",
       "      <td>0.129555</td>\n",
       "    </tr>\n",
       "    <tr>\n",
       "      <th rowspan=\"5\" valign=\"top\">LogisticRegression</th>\n",
       "      <th>normal</th>\n",
       "      <td>0.945070</td>\n",
       "      <td>0.490506</td>\n",
       "      <td>0.792486</td>\n",
       "    </tr>\n",
       "    <tr>\n",
       "      <th>dos</th>\n",
       "      <td>0.946047</td>\n",
       "      <td>0.359029</td>\n",
       "      <td>0.850490</td>\n",
       "    </tr>\n",
       "    <tr>\n",
       "      <th>probe</th>\n",
       "      <td>0.759258</td>\n",
       "      <td>0.313774</td>\n",
       "      <td>0.346760</td>\n",
       "    </tr>\n",
       "    <tr>\n",
       "      <th>r2l</th>\n",
       "      <td>0.621065</td>\n",
       "      <td>0.103285</td>\n",
       "      <td>0.015391</td>\n",
       "    </tr>\n",
       "    <tr>\n",
       "      <th>u2r</th>\n",
       "      <td>0.192053</td>\n",
       "      <td>0.036214</td>\n",
       "      <td>0.000170</td>\n",
       "    </tr>\n",
       "  </tbody>\n",
       "</table>\n",
       "</div>"
      ],
      "text/plain": [
       "                                                    ROC  Log Loss  F1 Score\n",
       "RandomForestClassifier                 normal  1.000000  0.001088  0.999819\n",
       "                                       dos     0.999999  0.003142  0.999332\n",
       "                                       probe   0.999999  0.001916  0.988691\n",
       "                                       r2l     0.999975  0.001293  0.479100\n",
       "                                       u2r     0.999909  0.000559  0.142222\n",
       "PCA RandomForestClassifier             normal  1.000000  0.001901  0.999782\n",
       "                                       dos     0.999998  0.004227  0.999208\n",
       "                                       probe   0.999999  0.003029  0.983408\n",
       "                                       r2l     0.999972  0.001674  0.449472\n",
       "                                       u2r     0.999944  0.000531  0.091168\n",
       "Standard Scaler RandomForestClassifier normal  1.000000  0.001035  0.999855\n",
       "                                       dos     0.999999  0.003097  0.999382\n",
       "                                       probe   0.999999  0.001886  0.989810\n",
       "                                       r2l     0.999970  0.001313  0.500840\n",
       "                                       u2r     0.999938  0.000526  0.129555\n",
       "LogisticRegression                     normal  0.945070  0.490506  0.792486\n",
       "                                       dos     0.946047  0.359029  0.850490\n",
       "                                       probe   0.759258  0.313774  0.346760\n",
       "                                       r2l     0.621065  0.103285  0.015391\n",
       "                                       u2r     0.192053  0.036214  0.000170"
      ]
     },
     "execution_count": 26,
     "metadata": {},
     "output_type": "execute_result"
    }
   ],
   "source": [
    "evaluate_all_models(train_X, train_y, test_X, test_y, weight)"
   ]
  },
  {
   "cell_type": "code",
   "execution_count": 27,
   "metadata": {},
   "outputs": [],
   "source": [
    "rfc = RandomForestClassifier(oob_score= True, n_jobs= -1, verbose= 0, class_weight= weight)"
   ]
  },
  {
   "cell_type": "code",
   "execution_count": 28,
   "metadata": {},
   "outputs": [
    {
     "data": {
      "text/plain": [
       "RandomForestClassifier(class_weight={'dos': 0.36458, 'normal': 0.534582,\n",
       "                                     'probe': 0.092526, 'r2l': 0.007904,\n",
       "                                     'u2r': 0.000408},\n",
       "                       n_jobs=-1, oob_score=True)"
      ]
     },
     "execution_count": 28,
     "metadata": {},
     "output_type": "execute_result"
    }
   ],
   "source": [
    "rfc.fit(train_X, train_y)"
   ]
  },
  {
   "cell_type": "code",
   "execution_count": 42,
   "metadata": {},
   "outputs": [
    {
     "name": "stdout",
     "output_type": "stream",
     "text": [
      "\n",
      "\n",
      " --------------------  Validation Set  -------------------- \n",
      "\n",
      "\n"
     ]
    },
    {
     "data": {
      "text/html": [
       "<div>\n",
       "<style scoped>\n",
       "    .dataframe tbody tr th:only-of-type {\n",
       "        vertical-align: middle;\n",
       "    }\n",
       "\n",
       "    .dataframe tbody tr th {\n",
       "        vertical-align: top;\n",
       "    }\n",
       "\n",
       "    .dataframe thead th {\n",
       "        text-align: right;\n",
       "    }\n",
       "</style>\n",
       "<table border=\"1\" class=\"dataframe\">\n",
       "  <thead>\n",
       "    <tr style=\"text-align: right;\">\n",
       "      <th></th>\n",
       "      <th>normal</th>\n",
       "      <th>dos</th>\n",
       "      <th>probe</th>\n",
       "      <th>r2l</th>\n",
       "      <th>u2r</th>\n",
       "    </tr>\n",
       "  </thead>\n",
       "  <tbody>\n",
       "    <tr>\n",
       "      <th>ROC</th>\n",
       "      <td>1.000000</td>\n",
       "      <td>0.999999</td>\n",
       "      <td>0.999999</td>\n",
       "      <td>0.999995</td>\n",
       "      <td>0.999925</td>\n",
       "    </tr>\n",
       "    <tr>\n",
       "      <th>Log Loss</th>\n",
       "      <td>0.001064</td>\n",
       "      <td>0.003305</td>\n",
       "      <td>0.002101</td>\n",
       "      <td>0.001173</td>\n",
       "      <td>0.000522</td>\n",
       "    </tr>\n",
       "    <tr>\n",
       "      <th>F1 Score</th>\n",
       "      <td>0.999819</td>\n",
       "      <td>0.999332</td>\n",
       "      <td>0.987993</td>\n",
       "      <td>0.485342</td>\n",
       "      <td>0.115942</td>\n",
       "    </tr>\n",
       "  </tbody>\n",
       "</table>\n",
       "</div>"
      ],
      "text/plain": [
       "            normal       dos     probe       r2l       u2r\n",
       "ROC       1.000000  0.999999  0.999999  0.999995  0.999925\n",
       "Log Loss  0.001064  0.003305  0.002101  0.001173  0.000522\n",
       "F1 Score  0.999819  0.999332  0.987993  0.485342  0.115942"
      ]
     },
     "execution_count": 42,
     "metadata": {},
     "output_type": "execute_result"
    }
   ],
   "source": [
    "print(\"\\n\\n\",\"-\"*20, \" Validation Set \",\"-\"*20, \"\\n\\n\")\n",
    "evaluate_metric(test_X,test_y,weight, rfc)"
   ]
  },
  {
   "cell_type": "code",
   "execution_count": 25,
   "metadata": {},
   "outputs": [
    {
     "data": {
      "image/png": "[encoded data removed]",
      "text/plain": [
       "<Figure size 576x432 with 1 Axes>"
      ]
     },
     "metadata": {
      "needs_background": "light"
     },
     "output_type": "display_data"
    }
   ],
   "source": [
    "cf_matrix.make_confusion_matrix(\n",
    "    confusion_matrix(test_y, rfc.predict(test_X)), \n",
    "    figsize=(8,6), \n",
    "    categories=[\"dos\", \"normal\", \"probe\", \"r2l\", \"u2r\"], \n",
    "    cbar=False\n",
    ")"
   ]
  },
  {
   "cell_type": "code",
   "execution_count": 26,
   "metadata": {},
   "outputs": [],
   "source": [
    "test_me = change_target_variable(test_me)"
   ]
  },
  {
   "cell_type": "code",
   "execution_count": 27,
   "metadata": {},
   "outputs": [],
   "source": [
    "test_me = prep.prep(test_me)\n",
    "X = df.iloc[:, :-1]\n",
    "y = df.attacks_class"
   ]
  },
  {
   "cell_type": "code",
   "execution_count": 51,
   "metadata": {},
   "outputs": [
    {
     "name": "stdout",
     "output_type": "stream",
     "text": [
      "\n",
      "\n",
      " --------------------  Test Set  -------------------- \n",
      "\n",
      "\n"
     ]
    },
    {
     "data": {
      "text/html": [
       "<div>\n",
       "<style scoped>\n",
       "    .dataframe tbody tr th:only-of-type {\n",
       "        vertical-align: middle;\n",
       "    }\n",
       "\n",
       "    .dataframe tbody tr th {\n",
       "        vertical-align: top;\n",
       "    }\n",
       "\n",
       "    .dataframe thead tr th {\n",
       "        text-align: left;\n",
       "    }\n",
       "</style>\n",
       "<table border=\"1\" class=\"dataframe\">\n",
       "  <thead>\n",
       "    <tr>\n",
       "      <th></th>\n",
       "      <th colspan=\"5\" halign=\"left\">RandomForestClassifier</th>\n",
       "    </tr>\n",
       "    <tr>\n",
       "      <th></th>\n",
       "      <th>normal</th>\n",
       "      <th>dos</th>\n",
       "      <th>probe</th>\n",
       "      <th>r2l</th>\n",
       "      <th>u2r</th>\n",
       "    </tr>\n",
       "  </thead>\n",
       "  <tbody>\n",
       "    <tr>\n",
       "      <th>ROC</th>\n",
       "      <td>1.000000</td>\n",
       "      <td>1.000000</td>\n",
       "      <td>1.000000</td>\n",
       "      <td>0.999999</td>\n",
       "      <td>0.999987</td>\n",
       "    </tr>\n",
       "    <tr>\n",
       "      <th>Log Loss</th>\n",
       "      <td>0.000565</td>\n",
       "      <td>0.001754</td>\n",
       "      <td>0.001066</td>\n",
       "      <td>0.000651</td>\n",
       "      <td>0.000254</td>\n",
       "    </tr>\n",
       "    <tr>\n",
       "      <th>F1 Score</th>\n",
       "      <td>0.999946</td>\n",
       "      <td>0.999800</td>\n",
       "      <td>0.994964</td>\n",
       "      <td>0.583236</td>\n",
       "      <td>0.172471</td>\n",
       "    </tr>\n",
       "  </tbody>\n",
       "</table>\n",
       "</div>"
      ],
      "text/plain": [
       "         RandomForestClassifier                                        \n",
       "                         normal       dos     probe       r2l       u2r\n",
       "ROC                    1.000000  1.000000  1.000000  0.999999  0.999987\n",
       "Log Loss               0.000565  0.001754  0.001066  0.000651  0.000254\n",
       "F1 Score               0.999946  0.999800  0.994964  0.583236  0.172471"
      ]
     },
     "execution_count": 51,
     "metadata": {},
     "output_type": "execute_result"
    }
   ],
   "source": [
    "print(\"\\n\\n\",\"-\"*20, \" Test Set \",\"-\"*20, \"\\n\\n\")\n",
    "evaluate_metric(X,y,weight, rfc)"
   ]
  },
  {
   "cell_type": "code",
   "execution_count": 30,
   "metadata": {},
   "outputs": [
    {
     "data": {
      "image/png": "[encoded data removed]",
      "text/plain": [
       "<Figure size 576x432 with 1 Axes>"
      ]
     },
     "metadata": {
      "needs_background": "light"
     },
     "output_type": "display_data"
    }
   ],
   "source": [
    "cf_matrix.make_confusion_matrix(\n",
    "    confusion_matrix(y, rfc.predict(X)), \n",
    "    figsize=(8,6), \n",
    "    categories=[\"dos\", \"normal\", \"probe\", \"r2l\", \"u2r\"], \n",
    "    cbar=False\n",
    ")"
   ]
  },
  {
   "cell_type": "code",
   "execution_count": 33,
   "metadata": {},
   "outputs": [],
   "source": [
    "Feature_imp = pd.DataFrame()\n",
    "Feature_imp[\"Feature\"] = train_X.columns\n",
    "Feature_imp[\"Imp\"] = rfc.feature_importances_"
   ]
  },
  {
   "cell_type": "code",
   "execution_count": 34,
   "metadata": {},
   "outputs": [
    {
     "data": {
      "image/png": "[encoded data removed]",
      "text/plain": [
       "<Figure size 720x504 with 1 Axes>"
      ]
     },
     "metadata": {
      "needs_background": "light"
     },
     "output_type": "display_data"
    }
   ],
   "source": [
    "plt.figure(figsize=(10,7))\n",
    "_ = round(Feature_imp.sort_values(\"Imp\", ascending= False), 5).iloc[:35, :]\n",
    "sns.barplot(x = \"Imp\", y =\"Feature\", data = _)\n",
    "plt.show()"
   ]
  },
  {
   "cell_type": "markdown",
   "metadata": {},
   "source": [
    "### Feature helped in classifying Normal or DOS attacks"
   ]
  },
  {
   "cell_type": "code",
   "execution_count": 35,
   "metadata": {},
   "outputs": [
    {
     "data": {
      "image/png": "[encoded data removed]",
      "text/plain": [
       "<Figure size 432x288 with 1 Axes>"
      ]
     },
     "metadata": {
      "needs_background": "light"
     },
     "output_type": "display_data"
    }
   ],
   "source": [
    "_ = Feature_imp[Feature_imp.Feature.str.find(\"flag_\") != -1].sort_values(\"Imp\")\n",
    "sns.barplot(x = \"Imp\", y = \"Feature\",data = _)\n",
    "plt.show()"
   ]
  },
  {
   "cell_type": "markdown",
   "metadata": {},
   "source": [
    "### Feature helped in classifying Probe, U2R and R2L attacks "
   ]
  },
  {
   "cell_type": "code",
   "execution_count": 36,
   "metadata": {},
   "outputs": [
    {
     "data": {
      "image/png": "[encoded data removed]",
      "text/plain": [
       "<Figure size 432x288 with 1 Axes>"
      ]
     },
     "metadata": {
      "needs_background": "light"
     },
     "output_type": "display_data"
    }
   ],
   "source": [
    "_ = Feature_imp[Feature_imp.Feature.isin([\"num_shell\", \"src_bytes\", \"duration\",\"num_file_creations\",\"num_failed_logins\"])].sort_values(\"Imp\")\n",
    "sns.barplot(x = \"Imp\", y =\"Feature\", data = _)\n",
    "plt.show()"
   ]
  }
 ],
 "metadata": {
  "kernelspec": {
   "display_name": "Python 3",
   "language": "python",
   "name": "python3"
  },
  "language_info": {
   "codemirror_mode": {
    "name": "ipython",
    "version": 3
   },
   "file_extension": ".py",
   "mimetype": "text/x-python",
   "name": "python",
   "nbconvert_exporter": "python",
   "pygments_lexer": "ipython3",
   "version": "3.8.3"
  }
 },
 "nbformat": 4,
 "nbformat_minor": 4
}
